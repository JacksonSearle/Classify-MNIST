{
 "cells": [
  {
   "cell_type": "code",
   "execution_count": 38,
   "metadata": {},
   "outputs": [],
   "source": [
    "import random\n",
    "import torch\n",
    "from torch import nn\n",
    "from torchvision import datasets\n",
    "import torch.optim as optim\n",
    "import torchvision\n",
    "import torch.nn.functional as F\n",
    "import torch.optim.lr_scheduler as lr_scheduler"
   ]
  },
  {
   "cell_type": "code",
   "execution_count": 39,
   "metadata": {},
   "outputs": [],
   "source": [
    "# Define the input dimension\n",
    "X_dim = 28*28 # 784\n",
    "# Define the output dimension\n",
    "digit_quantity = 10\n",
    "# Define the layer sizes in the network\n",
    "classifier_layers = [X_dim, 512, 64, digit_quantity]"
   ]
  },
  {
   "cell_type": "code",
   "execution_count": 40,
   "metadata": {},
   "outputs": [],
   "source": [
    "class Classifier(nn.Module):\n",
    "    def __init__(self, layers):\n",
    "        super().__init__()\n",
    "        # Creates a list that can hold layers\n",
    "        self.layers = nn.ModuleList()\n",
    "        # Inserts each layer into the list as defined above\n",
    "        for i in range(len(layers)-1):\n",
    "            self.layers.append(nn.Linear(layers[i], layers[i+1]))\n",
    "    def forward(self, x):\n",
    "        # Runs the input through each layer sequentially\n",
    "        for i, layer in enumerate(self.layers):\n",
    "            if i == len(self.layers)-1:\n",
    "                # Sigmoid is commonly used on the last layer\n",
    "                # of a network in classification tasks\n",
    "                return torch.sigmoid(layer(x))\n",
    "            else:\n",
    "                # Relu is commonly used in hidden layers\n",
    "                x = torch.relu(layer(x))"
   ]
  },
  {
   "cell_type": "code",
   "execution_count": 41,
   "metadata": {},
   "outputs": [],
   "source": [
    "# Datasets\n",
    "\n",
    "# MNIST is already normalized, so we won't normalize here\n",
    "transform = torchvision.transforms.Compose([torchvision.transforms.ToTensor()])\n",
    "\n",
    "# Obtain train_dataset\n",
    "train_dataset = datasets.MNIST(\n",
    "   root=\"./mnist\",\n",
    "   train=True,\n",
    "   transform=transform,\n",
    "   download=True,\n",
    ")\n",
    "\n",
    "# Obtain test_dataset\n",
    "test_dataset = datasets.MNIST(\n",
    "   root=\"./mnist\",\n",
    "   train=False,\n",
    "   transform=transform,\n",
    "   download=True,\n",
    ")\n",
    "\n",
    "\n",
    "# Split the training dataset into training and validation sets\n",
    "# 80% train, 20% validation\n",
    "train_size = int(0.8 * len(train_dataset))\n",
    "val_size = len(train_dataset) - train_size\n",
    "train_dataset, val_dataset = torch.utils.data.random_split(train_dataset, [train_size, val_size])\n",
    "\n",
    "# These loaders help us easily acces the data when training\n",
    "train_loader = torch.utils.data.DataLoader(\n",
    "    train_dataset, batch_size=128, shuffle=True, pin_memory=True\n",
    ")\n",
    "\n",
    "val_loader = torch.utils.data.DataLoader(\n",
    "    val_dataset, batch_size=32, shuffle=True\n",
    ")\n",
    "\n",
    "test_loader = torch.utils.data.DataLoader(\n",
    "    test_dataset, batch_size=32, shuffle=False\n",
    ")"
   ]
  },
  {
   "cell_type": "code",
   "execution_count": 42,
   "metadata": {},
   "outputs": [],
   "source": [
    "# Initialize the neural network with specified layers\n",
    "classifier = Classifier(classifier_layers)\n",
    "# Put the neural network on the GPU (if available) for faster training\n",
    "device = torch.device(\"cuda\" if torch.cuda.is_available() else \"cpu\")\n",
    "classifier.to(device)\n",
    "# Learning Rate set\n",
    "lr = 1e-3\n",
    "# Optimizer helps with gradient descent\n",
    "optimizer = optim.Adam(classifier.parameters(), lr=lr)\n",
    "# Learning rate is multiplied by .95 each epoch through the lr_scheduler\n",
    "lambda1 = lambda epoch: 0.95\n",
    "scheduler = lr_scheduler.MultiplicativeLR(optimizer, lr_lambda=lambda1)\n",
    "# Cross entropy loss is commonly used in classification problems\n",
    "loss_function = nn.CrossEntropyLoss()"
   ]
  },
  {
   "cell_type": "code",
   "execution_count": 43,
   "metadata": {},
   "outputs": [],
   "source": [
    "# This is used on val_loader and test_loader\n",
    "def calculate_accuracy(model, data_loader):\n",
    "    correct = 0\n",
    "    total = 0\n",
    "    with torch.no_grad():\n",
    "        for images, labels in data_loader:\n",
    "            images = images.view(-1, 784).to(device)\n",
    "            outputs = model(images)\n",
    "            _, predicted = torch.max(outputs.data, 1)\n",
    "            total += labels.size(0)\n",
    "            correct += (predicted == labels.to(device)).sum().item()\n",
    "    accuracy = correct / total\n",
    "    return accuracy"
   ]
  },
  {
   "cell_type": "code",
   "execution_count": 44,
   "metadata": {},
   "outputs": [
    {
     "name": "stderr",
     "output_type": "stream",
     "text": [
      "/var/folders/lb/ty5nmpy919sdwgwxgrrt5b4m0000gn/T/ipykernel_77562/1385877486.py:21: UserWarning: To copy construct from a tensor, it is recommended to use sourceTensor.clone().detach() or sourceTensor.clone().detach().requires_grad_(True), rather than torch.tensor(sourceTensor).\n",
      "  digit_tensors = torch.tensor(batch_labels)\n"
     ]
    },
    {
     "name": "stdout",
     "output_type": "stream",
     "text": [
      "Epoch: 1/20 | Train Loss: 604.1215 | Val Acc: 0.9315\n",
      "Epoch: 2/20 | Train Loss: 568.5425 | Val Acc: 0.9492\n",
      "Epoch: 3/20 | Train Loss: 562.5635 | Val Acc: 0.9595\n",
      "Epoch: 4/20 | Train Loss: 559.0175 | Val Acc: 0.9663\n",
      "Epoch: 5/20 | Train Loss: 556.8624 | Val Acc: 0.9668\n",
      "Epoch: 6/20 | Train Loss: 555.3080 | Val Acc: 0.9712\n",
      "Epoch: 7/20 | Train Loss: 554.1187 | Val Acc: 0.9720\n",
      "Epoch: 8/20 | Train Loss: 553.3167 | Val Acc: 0.9763\n",
      "Epoch: 9/20 | Train Loss: 552.6130 | Val Acc: 0.9768\n",
      "Epoch: 10/20 | Train Loss: 551.9981 | Val Acc: 0.9767\n",
      "Epoch: 11/20 | Train Loss: 551.5899 | Val Acc: 0.9798\n",
      "Epoch: 12/20 | Train Loss: 551.1475 | Val Acc: 0.9786\n",
      "Epoch: 13/20 | Train Loss: 550.9310 | Val Acc: 0.9804\n",
      "Epoch: 14/20 | Train Loss: 550.5659 | Val Acc: 0.9795\n",
      "Epoch: 15/20 | Train Loss: 550.3659 | Val Acc: 0.9808\n",
      "Epoch: 16/20 | Train Loss: 550.3022 | Val Acc: 0.9812\n",
      "Epoch: 17/20 | Train Loss: 550.1337 | Val Acc: 0.9823\n",
      "Epoch: 18/20 | Train Loss: 549.9750 | Val Acc: 0.9828\n",
      "Epoch: 19/20 | Train Loss: 549.8860 | Val Acc: 0.9815\n",
      "Epoch: 20/20 | Train Loss: 549.7829 | Val Acc: 0.9792\n",
      "Test Accuracy: 0.9797\n"
     ]
    }
   ],
   "source": [
    "# Epochs: Number of times we will train on the entirety of the train dataset\n",
    "epochs = 20\n",
    "for epoch in range(epochs):\n",
    "    total_loss = 0\n",
    "    total_correct = 0\n",
    "    total_samples = 0\n",
    "    for i, (batch_features, batch_labels) in enumerate(train_loader):\n",
    "\n",
    "        # Resize batch_features\n",
    "        batch_features = batch_features.view(-1, 784).to(device)\n",
    "\n",
    "        # Reset the gradients back to zero\n",
    "        classifier.zero_grad()\n",
    "\n",
    "        # Pass the images into the classifier\n",
    "        output = classifier(batch_features)\n",
    "\n",
    "        # Convert labels into one hot vectors\n",
    "        #                        0  1  2  3  4  5  6  7  8  9\n",
    "        # The number 4 would be [0, 0, 0, 0, 1, 0, 0, 0, 0, 0]\n",
    "        digit_tensors = torch.tensor(batch_labels)\n",
    "        digit_tensors = F.one_hot(digit_tensors, num_classes=10)\n",
    "\n",
    "        # Calculate loss given batch_labels\n",
    "        train_loss = loss_function(output.float(), digit_tensors.float())\n",
    "        train_loss.backward()\n",
    "        optimizer.step()\n",
    "        total_loss += train_loss\n",
    "\n",
    "        # Calculate accuracy on training set\n",
    "        _, predicted = torch.max(output.data, 1)\n",
    "        total_correct += (predicted == batch_labels).sum().item()\n",
    "        total_samples += batch_labels.size(0)\n",
    "\n",
    "    # Calculate and print accuracy on validation set\n",
    "    val_accuracy = calculate_accuracy(classifier, val_loader)\n",
    "    print(\"Epoch: {}/{} | Train Loss: {:.4f} | Val Acc: {:.4f}\".format(epoch + 1, epochs, total_loss, val_accuracy))\n",
    "\n",
    "# Test the model on the test set\n",
    "test_accuracy = calculate_accuracy(classifier, test_loader)\n",
    "print(\"Test Accuracy: {:.4f}\".format(test_accuracy))\n",
    "\n",
    "# Save the model\n",
    "torch.save(classifier, \"classifier.pt\")"
   ]
  },
  {
   "cell_type": "code",
   "execution_count": 45,
   "metadata": {},
   "outputs": [],
   "source": [
    "# Load the model\n",
    "classifier = torch.load(\"classifier.pt\").to(device)"
   ]
  },
  {
   "cell_type": "code",
   "execution_count": 46,
   "metadata": {},
   "outputs": [],
   "source": [
    "import matplotlib.pyplot as plt\n",
    "import numpy as np\n",
    "\n",
    "\n",
    "def display_image(image):\n",
    "    image = image.detach()\n",
    "    image = image.view(1, 28, 28)   \n",
    "    image = image.numpy()\n",
    "    image = np.transpose(image, (1, 2, 0))\n",
    "    plt.imshow(image)\n",
    "    plt.show()"
   ]
  },
  {
   "cell_type": "code",
   "execution_count": 47,
   "metadata": {},
   "outputs": [],
   "source": [
    "def find_number_in_dataset(number):\n",
    "    for i in range(len(test_dataset)):\n",
    "        current_number = test_dataset[i][1]\n",
    "        if current_number == number:\n",
    "            return test_dataset[i][0]\n",
    "\n",
    "images = []\n",
    "for i in range(10):\n",
    "    images.append(find_number_in_dataset(i))"
   ]
  },
  {
   "cell_type": "code",
   "execution_count": 48,
   "metadata": {},
   "outputs": [
    {
     "data": {
      "image/png": "[encoded data removed]",
      "text/plain": [
       "<Figure size 432x288 with 1 Axes>"
      ]
     },
     "metadata": {
      "needs_background": "light"
     },
     "output_type": "display_data"
    },
    {
     "name": "stdout",
     "output_type": "stream",
     "text": [
      "tensor([[1.0000e+00, 1.4033e-21, 1.2631e-11, 3.3819e-19, 1.6728e-10, 1.6953e-14,\n",
      "         5.4850e-12, 9.3869e-08, 6.8524e-24, 1.5426e-11]],\n",
      "       grad_fn=<SigmoidBackward0>)\n"
     ]
    },
    {
     "data": {
      "image/png": "[encoded data removed]",
      "text/plain": [
       "<Figure size 432x288 with 1 Axes>"
      ]
     },
     "metadata": {
      "needs_background": "light"
     },
     "output_type": "display_data"
    },
    {
     "name": "stdout",
     "output_type": "stream",
     "text": [
      "tensor([[1.3708e-12, 1.0000e+00, 4.1418e-09, 4.1256e-12, 1.1389e-08, 6.5875e-11,\n",
      "         6.5830e-09, 5.4752e-07, 4.9627e-07, 1.8390e-15]],\n",
      "       grad_fn=<SigmoidBackward0>)\n"
     ]
    },
    {
     "data": {
      "image/png": "[encoded data removed]",
      "text/plain": [
       "<Figure size 432x288 with 1 Axes>"
      ]
     },
     "metadata": {
      "needs_background": "light"
     },
     "output_type": "display_data"
    },
    {
     "name": "stdout",
     "output_type": "stream",
     "text": [
      "tensor([[1.3527e-16, 6.1441e-11, 1.0000e+00, 3.2555e-11, 4.0200e-32, 2.7727e-24,\n",
      "         1.5649e-21, 5.9774e-16, 1.0277e-17, 2.8715e-28]],\n",
      "       grad_fn=<SigmoidBackward0>)\n"
     ]
    },
    {
     "data": {
      "image/png": "[encoded data removed]",
      "text/plain": [
       "<Figure size 432x288 with 1 Axes>"
      ]
     },
     "metadata": {
      "needs_background": "light"
     },
     "output_type": "display_data"
    },
    {
     "name": "stdout",
     "output_type": "stream",
     "text": [
      "tensor([[1.4126e-11, 2.9228e-09, 2.6785e-07, 9.9997e-01, 3.3944e-10, 6.0227e-11,\n",
      "         6.5182e-20, 1.4609e-09, 3.9402e-03, 3.5958e-06]],\n",
      "       grad_fn=<SigmoidBackward0>)\n"
     ]
    },
    {
     "data": {
      "image/png": "[encoded data removed]",
      "text/plain": [
       "<Figure size 432x288 with 1 Axes>"
      ]
     },
     "metadata": {
      "needs_background": "light"
     },
     "output_type": "display_data"
    },
    {
     "name": "stdout",
     "output_type": "stream",
     "text": [
      "tensor([[6.6707e-14, 1.6740e-10, 5.9272e-15, 4.9516e-19, 1.0000e+00, 4.5985e-12,\n",
      "         7.7685e-12, 1.0398e-09, 5.6322e-13, 7.6419e-02]],\n",
      "       grad_fn=<SigmoidBackward0>)\n"
     ]
    },
    {
     "data": {
      "image/png": "[encoded data removed]",
      "text/plain": [
       "<Figure size 432x288 with 1 Axes>"
      ]
     },
     "metadata": {
      "needs_background": "light"
     },
     "output_type": "display_data"
    },
    {
     "name": "stdout",
     "output_type": "stream",
     "text": [
      "tensor([[1.6859e-16, 3.7017e-14, 2.5979e-16, 4.5690e-26, 2.2461e-09, 5.5703e-01,\n",
      "         6.2353e-01, 2.7816e-26, 1.0803e-09, 1.0813e-12]],\n",
      "       grad_fn=<SigmoidBackward0>)\n"
     ]
    },
    {
     "data": {
      "image/png": "[encoded data removed]",
      "text/plain": [
       "<Figure size 432x288 with 1 Axes>"
      ]
     },
     "metadata": {
      "needs_background": "light"
     },
     "output_type": "display_data"
    },
    {
     "name": "stdout",
     "output_type": "stream",
     "text": [
      "tensor([[7.2266e-11, 7.6581e-11, 1.0644e-10, 3.6047e-20, 2.1452e-14, 6.8176e-10,\n",
      "         1.0000e+00, 1.5332e-14, 1.9861e-09, 6.2305e-22]],\n",
      "       grad_fn=<SigmoidBackward0>)\n"
     ]
    },
    {
     "data": {
      "image/png": "[encoded data removed]",
      "text/plain": [
       "<Figure size 432x288 with 1 Axes>"
      ]
     },
     "metadata": {
      "needs_background": "light"
     },
     "output_type": "display_data"
    },
    {
     "name": "stdout",
     "output_type": "stream",
     "text": [
      "tensor([[8.8938e-18, 1.7715e-13, 1.2628e-14, 5.4096e-13, 6.6567e-26, 5.1373e-23,\n",
      "         7.9715e-28, 1.0000e+00, 1.7140e-19, 4.9452e-13]],\n",
      "       grad_fn=<SigmoidBackward0>)\n"
     ]
    },
    {
     "data": {
      "image/png": "[encoded data removed]",
      "text/plain": [
       "<Figure size 432x288 with 1 Axes>"
      ]
     },
     "metadata": {
      "needs_background": "light"
     },
     "output_type": "display_data"
    },
    {
     "name": "stdout",
     "output_type": "stream",
     "text": [
      "tensor([[5.7803e-15, 4.7632e-11, 1.4097e-03, 8.5138e-08, 7.1592e-18, 4.8150e-12,\n",
      "         1.5204e-17, 7.1276e-07, 1.0000e+00, 2.7747e-16]],\n",
      "       grad_fn=<SigmoidBackward0>)\n"
     ]
    },
    {
     "data": {
      "image/png": "[encoded data removed]",
      "text/plain": [
       "<Figure size 432x288 with 1 Axes>"
      ]
     },
     "metadata": {
      "needs_background": "light"
     },
     "output_type": "display_data"
    },
    {
     "name": "stdout",
     "output_type": "stream",
     "text": [
      "tensor([[2.4338e-09, 1.3958e-11, 2.3413e-08, 6.8201e-06, 1.8169e-06, 1.7672e-13,\n",
      "         1.4506e-16, 1.0663e-08, 9.4918e-11, 9.9998e-01]],\n",
      "       grad_fn=<SigmoidBackward0>)\n"
     ]
    }
   ],
   "source": [
    "# This shows an input with the model's output\n",
    "# The output's max value's index should be the value of the number displayed\n",
    "for i in range(digit_quantity):\n",
    "    display_image(images[i])\n",
    "    print(classifier(images[i].view(-1, 784)))"
   ]
  }
 ],
 "metadata": {
  "kernelspec": {
   "display_name": "Python 3.8.9 64-bit",
   "language": "python",
   "name": "python3"
  },
  "language_info": {
   "codemirror_mode": {
    "name": "ipython",
    "version": 3
   },
   "file_extension": ".py",
   "mimetype": "text/x-python",
   "name": "python",
   "nbconvert_exporter": "python",
   "pygments_lexer": "ipython3",
   "version": "3.8.9"
  },
  "orig_nbformat": 4,
  "vscode": {
   "interpreter": {
    "hash": "31f2aee4e71d21fbe5cf8b01ff0e069b9275f58929596ceb00d14d90e3e16cd6"
   }
  }
 },
 "nbformat": 4,
 "nbformat_minor": 2
}
